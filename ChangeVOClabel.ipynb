{
 "cells": [
  {
   "cell_type": "code",
   "execution_count": 1,
   "id": "113564c7-4963-4bfc-9eb7-60c588efc622",
   "metadata": {},
   "outputs": [],
   "source": [
    "import os"
   ]
  },
  {
   "cell_type": "code",
   "execution_count": 13,
   "id": "2adf9893-a800-45b5-a969-659c520c1983",
   "metadata": {},
   "outputs": [],
   "source": [
    "target_path = os.path.join('Dataset','validation','Goldfish','Label')"
   ]
  },
  {
   "cell_type": "code",
   "execution_count": 14,
   "id": "e4c8d374-115d-426b-a4b3-b57bd35013b7",
   "metadata": {},
   "outputs": [],
   "source": [
    "list_of_files = []\n",
    "\n",
    "for files in os.listdir(target_path):\n",
    "    list_of_files.append(files)"
   ]
  },
  {
   "cell_type": "code",
   "execution_count": 15,
   "id": "4bfadf7d-fff8-40a0-8549-54f38c27f08f",
   "metadata": {},
   "outputs": [
    {
     "name": "stdout",
     "output_type": "stream",
     "text": [
      "['02621d3d56c7e96e.txt', '71a4dd0497fe28e6.txt', 'bb0cfdbdbe3fad47.txt', 'bc2b707659ef1fb9.txt', 'cfc72fba3cf5c4fb.txt']\n"
     ]
    }
   ],
   "source": [
    "print(list_of_files[:5])"
   ]
  },
  {
   "cell_type": "code",
   "execution_count": 16,
   "id": "0a6716f3-d76d-4f79-a4c2-fe0313224bca",
   "metadata": {},
   "outputs": [],
   "source": [
    "def write_file(file_path):\n",
    "    file_path = os.path.join(target_path,file_path)\n",
    "    file = open(file_path,\"r\")\n",
    "    result = file.readline()\n",
    "    file.close()\n",
    "    \n",
    "    file = open(file_path,\"w\")\n",
    "    result = result.split(\" \")\n",
    "    result[0] = \"Fish\"\n",
    "    sep = \" \"\n",
    "    new_string = sep.join(result)\n",
    "    file.write(new_string)\n",
    "    file.close()\n",
    "    print(new_string)"
   ]
  },
  {
   "cell_type": "code",
   "execution_count": 9,
   "id": "6d52f093-d6cf-4fb0-9202-fee9bdd4a09d",
   "metadata": {},
   "outputs": [
    {
     "name": "stdout",
     "output_type": "stream",
     "text": [
      "Fish 222.999552 169.000282 485.999616 337.00007\n",
      "\n"
     ]
    }
   ],
   "source": [
    "write_file('0034fd230b704833.txt')"
   ]
  },
  {
   "cell_type": "code",
   "execution_count": 17,
   "id": "4239a887-7e33-412a-833c-cfa5c7f44857",
   "metadata": {},
   "outputs": [
    {
     "name": "stdout",
     "output_type": "stream",
     "text": [
      "Fish 402.371584 288.379392 744.198144 623.831808\n",
      "\n",
      "Fish 448.49664 161.733572 866.144256 396.673024\n",
      "\n",
      "Fish 75.497472 87.451612 889.61536 833.906955\n",
      "\n",
      "Fish 0.0 324.907881 701.71136 669.197936\n",
      "\n",
      "Fish 90.353664 143.446521 492.845056 399.914526\n",
      "\n",
      "Fish 0.0 594.235392 576.675338 1024.0\n",
      "\n"
     ]
    }
   ],
   "source": [
    "for f in list_of_files:\n",
    "    write_file(f)"
   ]
  },
  {
   "cell_type": "code",
   "execution_count": null,
   "id": "2275634e-879f-4df7-a04e-5aa602bfa2a3",
   "metadata": {},
   "outputs": [],
   "source": []
  }
 ],
 "metadata": {
  "kernelspec": {
   "display_name": "tfod",
   "language": "python",
   "name": "tfod"
  },
  "language_info": {
   "codemirror_mode": {
    "name": "ipython",
    "version": 3
   },
   "file_extension": ".py",
   "mimetype": "text/x-python",
   "name": "python",
   "nbconvert_exporter": "python",
   "pygments_lexer": "ipython3",
   "version": "3.8.3"
  }
 },
 "nbformat": 4,
 "nbformat_minor": 5
}
